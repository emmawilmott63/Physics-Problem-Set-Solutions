{
 "cells": [
  {
   "cell_type": "markdown",
   "id": "554cb5e8",
   "metadata": {},
   "source": [
    "# Projectile Motion (with a Constraint)\n",
    "\n",
    "You launch a ball at an angle in a hallway with a ceiling. Ignore air resistance."
   ]
  },
  {
   "cell_type": "markdown",
   "id": "c206a027",
   "metadata": {},
   "source": [
    "### Hitting the ceiling\n",
    "\n",
    "The hallway is assumed to have a level ground, so the equation for the maximum height reached is\n",
    "\n",
    "$y_{max} = \\frac{sin(\\theta)^2v^2}{2g}$\n",
    "\n",
    "To find out if the ball would hit a theoretical ceiling, simply substitute the theoretical launch angle and velocity into the equation to get the max height, and then compare it with the height of the ceiling.\n",
    "\n",
    "The ball will hit the ceiling if $y_{max} \\geq H$ \n",
    "- $\\frac{sin(\\theta)^2v^2}{2g} \\geq H$\n",
    "\n",
    "The ball will not hit the ceiling if $y_{max} < H$\n",
    "- $\\frac{sin(\\theta)^2v^2}{2g} < H$ \n",
    "\n",
    "\n",
    "### Methods to manage collisions\n",
    "\n",
    "#### Changing velocity\n",
    "\n",
    "If the height of the ceiling and launch angle are set, change the launch velocity.\n",
    "\n",
    "Rearranging the inequality in term of $v$ yields:\n",
    "\n",
    "$v < \\sqrt{\\frac{2Hg}{sin(\\theta)^2}}$ \n",
    "\n",
    "Substituting for $H$ and $theta$ gives the maximum velocity that avoids collision.\n",
    "\n",
    "#### Changing angle\n",
    "\n",
    "If the height of the ceiling and launch velocity are set, change the launch angle.\n",
    "\n",
    "Rearranging the inequality in term of $\\theta$ yields:\n",
    "\n",
    "$\\theta < sin^{-1}(\\sqrt{\\frac{2Hg}{v^2}})$ \n",
    "\n",
    "Again, substitute the given height and velocity to find the maximum angle that avoids collision.\n",
    "\n",
    "#### When does H even start to matter?\n",
    "\n",
    "The maximum vertical velocity is achieved when $\\theta = \\pi/2$ (the ball is fired straight up), meaning $sin(\\theta) = 1$ and $v_y = v$. Therefore, if $H<\\frac{v^2}{2g}$, you have to take H into account, but if $H>\\frac{v^2}{2g}$, the ball will never reach the ceiling no matter what angle you launch it at and it has no impact on the ball's trajectory.\n"
   ]
  },
  {
   "cell_type": "markdown",
   "id": "e143b819",
   "metadata": {},
   "source": [
    "### Maximizing horizontal distance\n",
    "\n",
    "To maximize distance, velocity is the most important variable. With a ceiling constraint, there is a trade-off between $v$ and $\\theta$, and reducing $\\theta$ while increasing $v$ will yeild a larger $\\Delta x$ all the way up until $\\theta = 0$.\n",
    "\n",
    "$v = \\sqrt{\\frac{2Hg}{sin(\\theta)^2}}$ gives the largest velocity possible without a collision. Substituting into $∆x = \\frac{2cos(\\theta)sin(\\theta)v^2}{g}$ gives the equation for maximum displacement:\n",
    "\n",
    "$∆x = \\frac{4Hcos(\\theta)}{sin(\\theta)}$\n",
    "\n",
    "*note that $v$ is not present in this equation because $v$ is assumed to be the largest possible value that avoids collision\n",
    "\n",
    "\n",
    "If $v$ is allowed to reach infinity, then taking limit as $\\theta$ approaches 0 shows that $\\frac{cos(\\theta)}{sin(\\theta)}$ also approaches $\\infty$. (Which is probably not a shocker)"
   ]
  }
 ],
 "metadata": {
  "kernelspec": {
   "display_name": "Python 3 (ipykernel)",
   "language": "python",
   "name": "python3"
  },
  "language_info": {
   "codemirror_mode": {
    "name": "ipython",
    "version": 3
   },
   "file_extension": ".py",
   "mimetype": "text/x-python",
   "name": "python",
   "nbconvert_exporter": "python",
   "pygments_lexer": "ipython3",
   "version": "3.9.12"
  }
 },
 "nbformat": 4,
 "nbformat_minor": 5
}
