{
 "cells": [
  {
   "cell_type": "markdown",
   "id": "4702a3f4",
   "metadata": {},
   "source": [
    "# Projectile Motion Word Problem\n",
    "\n",
    "A water hose is used to fill a large cylindrical storage tank of diameter D and height 2D. The hose shoots the water at 450 above the horizontal from the same level as the base of the tank and is a distance 6D away (see drawing below). For what range of launch speeds (v0) will the water enter the tank? Ignore air resistance and express your answer in terms of D and g."
   ]
  },
  {
   "cell_type": "markdown",
   "id": "89b13ca4",
   "metadata": {},
   "source": [
    "### A note on notation"
   ]
  },
  {
   "cell_type": "markdown",
   "id": "60907e43",
   "metadata": {},
   "source": [
    "Given the angle $45^{\\circ}$:\n",
    "\n",
    "$v_v = sin(45^{\\circ})(v_0)$ \n",
    "\n",
    "$v_h = cos(45^{\\circ})(v_0)$\n",
    "\n",
    "To simplify equations later on, the notation used in this notebook is $v = \\frac{1}{\\sqrt{2}}(v_0)$ where $v = v_v = v_h$"
   ]
  },
  {
   "cell_type": "markdown",
   "id": "7af2afed",
   "metadata": {},
   "source": [
    "### Vertical motion\n",
    "\n",
    "The only thing affecting the water's movement is gravity. This causes it to fall and determines how long the water is in the air for. Kinematics equations can be used in 1 direction to find the displacement.\n",
    "\n",
    "$∆y = vt + \\frac{1}{2}at^2$\n",
    "\n",
    "Isolating $v$ yields \n",
    "\n",
    "$\\frac{∆y - \\frac{1}{2}at^2}{t} = v$\n",
    "\n",
    "Since the water tank is raised, the total displacement of the water must be equivalent to the difference between the floor height and the top of the tank. Set $∆y = 2D$ to find the velocity and time to get there.\n",
    "\n",
    "$\\frac{2D + \\frac{1}{2}gt^2}{t} = v$\n",
    "\n",
    "This equation currently 2 unknowns, but will later be helpful in solving for $t$ and $v$."
   ]
  },
  {
   "cell_type": "markdown",
   "id": "119c83aa",
   "metadata": {},
   "source": [
    "### Horizontal movement\n",
    "\n",
    "The water moves at a constant velocity in the x-direction, described by the equation\n",
    "\n",
    "$∆x = vt$\n",
    "\n",
    "To get in the tank, the horizontal displacement must be between 6D and 7D. This yields the inequality\n",
    "\n",
    "$6D < ∆x < 7D$\n",
    "\n",
    "or \n",
    "\n",
    "$6D < vt < 7D$\n",
    "\n",
    "To isolate $v$, \n",
    "\n",
    "$\\frac{6D}{t} < v < \\frac{7D}{t}$"
   ]
  },
  {
   "cell_type": "markdown",
   "id": "fde08772",
   "metadata": {},
   "source": [
    "### Combining equations\n",
    "\n",
    "Because both equation shave an isolated $v$, they can be sustituted into each other for the resulting inequality\n",
    "\n",
    "$\\frac{6D}{t} < \\frac{2D + \\frac{1}{2}gt^2}{t} < \\frac{7D}{t}$\n",
    "\n",
    "This eventually simplifies to \n",
    "\n",
    "$\\sqrt{\\frac{8D}{g}} < t < \\sqrt{\\frac{10D}{g}}$\n",
    "\n",
    "This inequality gives the range of possible times for the water to get into the tank. To get the range of possible velocities, take $t$ at the upper and lower bounds, and substitute them into the equation $v = \\frac{2D + \\frac{1}{2}gt^2}{t}$ giving the minimum and maximum $v$ values possible.\n",
    "\n",
    "$\\frac{2D + \\frac{1}{2}g(\\sqrt{\\frac{8D}{g}})^2}{\\sqrt{\\frac{8D}{g}}} < v < \\frac{2D + \\frac{1}{2}g(\\sqrt{\\frac{10D}{g}})^2}{\\sqrt{\\frac{10D}{g}}}$\n",
    "\n",
    "$\\frac{3\\sqrt{D}\\sqrt{g}}{\\sqrt{2}} < v < \\frac{7\\sqrt{D}\\sqrt{g}}{\\sqrt{10}}$\n",
    "\n",
    "In terms of $v_0$, this is \n",
    "\n",
    "$3\\sqrt{Dg} < v_0 < \\frac{7\\sqrt{Dg}}{\\sqrt{5}}$\n",
    "\n",
    "So the initial launch velocity needed to get the water in the tank is between $3\\sqrt{Dg}\\ m/s$ and $\\frac{7\\sqrt{Dg}}{\\sqrt{5}}\\ m/s$"
   ]
  },
  {
   "cell_type": "code",
   "execution_count": null,
   "id": "3a4f6e6b",
   "metadata": {},
   "outputs": [],
   "source": []
  }
 ],
 "metadata": {
  "kernelspec": {
   "display_name": "Python 3 (ipykernel)",
   "language": "python",
   "name": "python3"
  },
  "language_info": {
   "codemirror_mode": {
    "name": "ipython",
    "version": 3
   },
   "file_extension": ".py",
   "mimetype": "text/x-python",
   "name": "python",
   "nbconvert_exporter": "python",
   "pygments_lexer": "ipython3",
   "version": "3.9.12"
  }
 },
 "nbformat": 4,
 "nbformat_minor": 5
}
