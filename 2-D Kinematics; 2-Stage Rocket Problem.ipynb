{
 "cells": [
  {
   "cell_type": "markdown",
   "id": "ed12afea",
   "metadata": {},
   "source": [
    "# Rocket Word Problem\n",
    "\n",
    "A rocket designed to place small payloads into orbit is carried to an altitude of 12.0 km above sea level by a converted airliner. When the airliner is flying in a straight line at a constant speed of 850 km/h, the rocket is dropped. After the drop, the airliner maintains the same altitude and speed and continues to fly in a straight line. The rocket falls for a brief time, after which its rocket motor turns on. Once its rocket motor is on, the combined effects of thrust and gravity give the rocket a constant acceleration of magnitude 3.00$*$g directed at an angle of 30.0$^{\\circ}$ above the horizontal. For reasons of safety, the rocket should be at least 1.00 km in front of the airliner when it climbs through the airliner's altitude. Your job is to determine the minimum time that the rocket must fall before its engine starts. Ignore air resistance."
   ]
  },
  {
   "cell_type": "markdown",
   "id": "99dc08a5",
   "metadata": {},
   "source": [
    "### Vertical motion \n",
    "\n",
    "Over the course of the entire interaction, the rocket experiences non-uniform acceleration. In order to use 1-D kinematics equations, this can be broken up into 2 phases which each have a constant acceleration in a single direction.\n",
    "\n",
    "#### Phase 1\n",
    "\n",
    "The rocket experiences only an acceleration due to grvaity in the y-direction. The rocket has an initial $v_y$ of 0, so that can be taken out of the equation.\n",
    "\n",
    "$Δy_{1} = \\frac{1}{2}a(t_1)^2$\n",
    "\n",
    "$Δy_{1} = -\\frac{1}{2}g(t_1)^2$\n",
    "\n",
    "At $t_1$, the motors turn on \n",
    "\n",
    "#### Phase 2\n",
    "\n",
    "The motor provides a constant acceleration. The general formula from before can still be used, but now $v_y$ is non-zero and must be accounted for.\n",
    "\n",
    "$v_y = -gt_1$\n",
    "\n",
    "$Δy_{2} = v_yt_2 + \\frac{1}{2}a_y(t_2)^2$\n",
    "\n",
    "- $a_y = \\frac{3}{2}g$\n",
    "\n",
    "$Δy_{2} = -gt_1(t_2) + \\frac{1}{2}(\\frac{3}{2}g)(t_2)^2$\n",
    "\n",
    "- $t_2$ is the time starting from $t_1$ and ending when the rocket crosses the airliner's altitude (so it may be more techincally correct to call the times $Δt_1$ and $Δt_2$, but for the sake of keeping the equations more readable and less cluttered I won't).\n",
    "\n",
    "To get total displacement from both phases together, recombine equations:\n",
    "\n",
    "$Δy = Δy_{1} + Δy_{2}$\n",
    "\n",
    "$Δy = -\\frac{1}{2}g(t_1)^2 - gt_1(t_2) + \\frac{1}{2}(\\frac{3}{2}g)(t_2)^2$\n",
    "\n",
    "The total displacement of the rocket is zero when it returns to the height of the airliner. If $Δy$ is set equal to 0 the equation becomes an almost-solveable quadratic.\n",
    "\n",
    "$0 = -\\frac{1}{2}g(t_1)^2 - gt_1(t_2) + \\frac{1}{2}(\\frac{3}{2}g)(t_2)^2$\n",
    "\n",
    "$0 = (t_1)^2 + 2t_1(t_2) - \\frac{3}{2}(t_2)^2$\n",
    "\n",
    "This equation is set up like a quadratic in terms of $t_1$. It will become solveable after $t_2$ is known."
   ]
  },
  {
   "cell_type": "markdown",
   "id": "dbd113c9",
   "metadata": {},
   "source": [
    "### Horizontal motion \n",
    "\n",
    "Before the rocket motor turns on, it moves with the same velocity of the airliner, 850 km/hr (or 236 m/s). Since it continues to stay directly underneath until it begins acceleration, a moving reference fram can be used and this velocity can be ignored. In this moving reference fram, the rocket must travel a displacement of 1000m relative to the airliner.\n",
    "\n",
    "Using acceleration provided by the motor\n",
    "\n",
    "$1000 = \\frac{1}{2}(\\frac{3\\sqrt{3}g}{2})(t_2)^2$\n",
    "\n",
    "so \n",
    "\n",
    "$\\sqrt{\\frac{4000}{3\\sqrt{3}(9.8)}} = t_2$\n",
    "\n",
    "$t_2 = \\sqrt{\\frac{4000}{3\\sqrt{3}(9.8)}}$\n"
   ]
  },
  {
   "cell_type": "markdown",
   "id": "1a836e8c",
   "metadata": {},
   "source": [
    "### Solving for $t_1$\n",
    "\n",
    "The vertical motion equation has 1 variables\n",
    "\n",
    "$0 = (t_1)^2 + 2t_1(t_2) - \\frac{3}{2}(t_2)^2$\n",
    "\n",
    "The horizontal motion equation solves for one of these\n",
    "\n",
    "$t_2 = \\sqrt{\\frac{4000}{3\\sqrt{3}(9.8)}}$\n",
    "\n",
    "Using the quadratic formula, $t_1$ can now be found\n",
    "\n",
    "$x=\\frac{-b\\pm\\sqrt{b^2-4ac}}{2a}$\n",
    "- $a = 1$\n",
    "- $b = 2(t_2) = 2\\sqrt{\\frac{4000}{3\\sqrt{3}(9.8)}}$\n",
    "- $c = -\\frac{3}{2}(t_2)^2 = -\\frac{3}{2}(\\frac{4000}{3\\sqrt{3}(9.8)}) = -\\frac{2000}{\\sqrt{3}(9.8)}$\n",
    "\n",
    "$t_1 =\\frac{-2\\sqrt{\\frac{4000}{3\\sqrt{3}(9.8)}}\\pm\\sqrt{(2\\sqrt{\\frac{4000}{3\\sqrt{3}(9.8)}})^2+4(\\frac{2000}{\\sqrt{3}(9.8)})}}{2}$\n",
    "\n",
    "$t_1 =\\frac{-17.72580684\\pm28.0269614894}{2}$\n",
    "\n",
    "$t_1 \\approx 5.1505773247$\n",
    "\n",
    "$t_1 \\approx -22.8763841647$\n",
    "\n",
    "(Negative solutions aren't helpful in the context of this problem, and are ignored)\n",
    "\n",
    "5.151 seconds is the minimum drop time to end up 1km in front of the airliner."
   ]
  }
 ],
 "metadata": {
  "kernelspec": {
   "display_name": "Python 3 (ipykernel)",
   "language": "python",
   "name": "python3"
  },
  "language_info": {
   "codemirror_mode": {
    "name": "ipython",
    "version": 3
   },
   "file_extension": ".py",
   "mimetype": "text/x-python",
   "name": "python",
   "nbconvert_exporter": "python",
   "pygments_lexer": "ipython3",
   "version": "3.9.12"
  }
 },
 "nbformat": 4,
 "nbformat_minor": 5
}
