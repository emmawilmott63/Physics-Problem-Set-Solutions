{
 "cells": [
  {
   "cell_type": "markdown",
   "id": "4a6f6de6",
   "metadata": {},
   "source": [
    "## Problem"
   ]
  },
  {
   "cell_type": "markdown",
   "id": "67abb184",
   "metadata": {},
   "source": [
    "The engineer of a passenger train traveling at $25.0 m/s$ sights a freight train whose caboose is $200 m$ ahead on the same track. The freight train is traveling at $15.0 m/s$ in the same direction as the passenger train. The engineer of the passenger train immediately applies the brakes, causing a constant acceleration of $0.100 m/s^2$ in a direction opposite to the train's velocity, while the freight train continues with constant speed. Take $x=0$ at the location of the front of the passenger train when the engineer applies the brakes.\n",
    "\n",
    "(a) Will the cows nearby witness a collision?\n",
    "\n",
    "(b) If so, where will it take place?\n",
    "\n",
    "(c) On a single graph, sketch the positions of the front of the passenger train and the back of the freight train."
   ]
  },
  {
   "cell_type": "markdown",
   "id": "6c76bfad",
   "metadata": {},
   "source": [
    "### (a) The time of collision"
   ]
  },
  {
   "cell_type": "markdown",
   "id": "babeb17c",
   "metadata": {},
   "source": [
    "For a collision to occur, the passenger train must catch up to the freight train. In a given time, it must travel the same distance as the freight train, plus an extra $200m$.\n",
    "\n",
    "The displacement of each train can be modeled by the equation:\n",
    "$Δx = vt + \\frac{1}{2}at^2$\n",
    "\n",
    "for the passenger train: \n",
    "$Δx_p = v_pt + \\frac{1}{2}a_pt^2$\n",
    "\n",
    "for the freight train:\n",
    "$Δx_f = v_ft + \\frac{1}{2}a_ft^2$\n",
    "\n",
    "If there is a collision, there will be some t that satisfies the equation:\n",
    "\n",
    "$v_pt + \\frac{1}{2}a_pt^2 = v_ft + \\frac{1}{2}a_ft^2 + 200$\n",
    "\n",
    "(this is an expansion of $Δx_p = Δx_f + 200$)\n",
    "\n",
    "This equation can be rearranged into a quadratic, which we can solve using the given values\n",
    "\n",
    "$0 = \\frac{1}{2}(a_f-a_p)t^2 + (v_f-v_p)t + 200$\n",
    "\n",
    "$0 = \\frac{1}{2}(0+0.1)t^2 + (15-25)t + 200$\n",
    "\n",
    "(Here's a step-by-step of substitution with the quadratic formula:)\n",
    "\n",
    "$t = \\frac{-b \\pm \\sqrt{b^2 - 4(a)(c)}}{2a} $\n",
    "\n",
    "$t = \\frac{-(v_f-v_p) \\pm \\sqrt{(v_f-v_p)^2 - 4(\\frac{1}{2}(a_f-a_p))(200)}}{2(\\frac{1}{2}(a_f-a_p))} $\n",
    "\n",
    "$t = \\frac{-(-10) \\pm \\sqrt{(-10)^2 - 4(0.05)(200)}}{2(0.05)} $\n",
    "\n",
    "$t = 22.54 s$ \n",
    "\n",
    "and $t = 177.46 s$\n",
    "\n",
    "The fact that a $t$ exists tells us that a collision does in fact occur, and it happens at $22.54$ seconds.\n",
    "\n",
    "(But wait a second... why are there 2 values for t?)\n",
    "\n",
    "This is because if nothing were to obstruct the path of either train (aka if they could phase through each other), they would keep moving after the first collision at 22.54 seconds and meet again after 177.46 total seconds had passed."
   ]
  },
  {
   "cell_type": "markdown",
   "id": "9fcef3f7",
   "metadata": {},
   "source": [
    "### (b) The place of collision"
   ]
  },
  {
   "cell_type": "markdown",
   "id": "3e537093",
   "metadata": {},
   "source": [
    "Taking the t value from part (a), we can substitute it back into our displacement equations.\n",
    "\n",
    "For the passenger train:\n",
    "\n",
    "$Δx_p = 25(22.54) - 0.05(22.54)^2$\n",
    "\n",
    "$Δx_p = 538 m$\n",
    "\n",
    "And for the freight train:\n",
    "\n",
    "$Δx_f = 15(22.54)$ \n",
    "\n",
    "$Δx_f = 338 m$\n",
    "\n",
    "The displacement of the passeneger train is $200m$ greater than the freight train, which supports the answer that they collide, since it started out $200m$ behind. Because we picked the front of the passenger as $x=0$, the freight train started at position $x=200$, so we must add this to the displacement to get the final destination.\n",
    "\n",
    "$x_f = Δx_f + Δx_0$\n",
    "\n",
    "$x_f = 338 m + 200 m$\n",
    "\n",
    "$x_f = 538 m$\n",
    "\n",
    "When we compare these 2 equations, we see that we get the same collision place of $538$ meters using either equation."
   ]
  },
  {
   "cell_type": "markdown",
   "id": "caa1910c",
   "metadata": {},
   "source": [
    "### A graphical representation"
   ]
  },
  {
   "cell_type": "markdown",
   "id": "ff0888af",
   "metadata": {},
   "source": [
    "This graph shows the train crash at $t = 22.54s$ and $x=538m$"
   ]
  },
  {
   "cell_type": "code",
   "execution_count": 3,
   "id": "304c8374",
   "metadata": {
    "scrolled": true
   },
   "outputs": [
    {
     "data": {
      "text/plain": [
       "(10.0, 30.0)"
      ]
     },
     "execution_count": 3,
     "metadata": {},
     "output_type": "execute_result"
    },
    {
     "data": {
      "image/png": "[encoded data removed]",
      "text/plain": [
       "<Figure size 432x288 with 1 Axes>"
      ]
     },
     "metadata": {
      "needs_background": "light"
     },
     "output_type": "display_data"
    }
   ],
   "source": [
    "from matplotlib import pyplot as plt\n",
    "t = 0\n",
    "for t in range (30):\n",
    "    xp = 25*t-0.05*t*t\n",
    "    xf = 200+15*t\n",
    "    plt.plot(t, xp, '.', color='green')\n",
    "    plt.plot(t, xf, '.', color='black')\n",
    "plt.title(\"position vs time\")\n",
    "plt.xlabel(\"time (s)\")\n",
    "plt.ylabel(\"position (m)\")\n",
    "plt.xlim(10,30)"
   ]
  },
  {
   "cell_type": "markdown",
   "id": "869f7961",
   "metadata": {},
   "source": [
    "## Extension question: what is the minimum brakeage needed for the trains to not collide?"
   ]
  },
  {
   "cell_type": "markdown",
   "id": "1094d360",
   "metadata": {},
   "source": [
    "Using the formula\n",
    "\n",
    "$v_f^2 = v_0^2 + 2aΔx$\n",
    "\n",
    "and rearranging into\n",
    "\n",
    "$\\frac{(v_f^2-v_0^2)}{2Δx} = a$\n",
    "\n",
    "we can substitute values from the passenger train to get the acceleration needed for the trains to end up at the same place at the instant their velocities are also the same\n",
    "\n",
    "$\\frac{-(10^2)}{2(200)} = a$\n",
    "\n",
    "$\\frac{-100}{400} = a$\n",
    "\n",
    "$a = -0.25 $\n",
    "\n",
    "Meaning that if the passenger train breaks with an acceleration of $0.25 m/s^2$, it will just barely hit the back of the freight train. And if it breaks any harder than that, it won't collide at all. "
   ]
  },
  {
   "cell_type": "code",
   "execution_count": null,
   "id": "1375acf8",
   "metadata": {},
   "outputs": [],
   "source": []
  }
 ],
 "metadata": {
  "kernelspec": {
   "display_name": "Python 3 (ipykernel)",
   "language": "python",
   "name": "python3"
  },
  "language_info": {
   "codemirror_mode": {
    "name": "ipython",
    "version": 3
   },
   "file_extension": ".py",
   "mimetype": "text/x-python",
   "name": "python",
   "nbconvert_exporter": "python",
   "pygments_lexer": "ipython3",
   "version": "3.9.12"
  }
 },
 "nbformat": 4,
 "nbformat_minor": 5
}
