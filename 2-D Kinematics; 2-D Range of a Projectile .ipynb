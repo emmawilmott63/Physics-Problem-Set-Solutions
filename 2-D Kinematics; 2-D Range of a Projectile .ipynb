{
 "cells": [
  {
   "cell_type": "markdown",
   "id": "e7b90075",
   "metadata": {},
   "source": [
    "# Projectile Motion Scenario\n",
    "\n",
    "A projectile is launched from an arbitrary height H above the ground. Ignore air resistance."
   ]
  },
  {
   "cell_type": "markdown",
   "id": "357e689a",
   "metadata": {},
   "source": [
    "### Maximum height\n",
    "\n",
    "The height is only affected by the vertical component of velocity, $v_y$, and gravity. This derivation and subsequent ones in the same notebook with use the constant acceleration equation $x(t) = v_0t + \\frac{1}{2}at^2$\n",
    "\n",
    "The particle has a maximum height when the instantaneous velocity is 0.\n",
    "\n",
    "$v_0 + at = 0$ or $\\frac{v_0}{-a} = t$\n",
    "\n",
    "This gets substituted into the equation of motion\n",
    "\n",
    "$y(t) = H + v_{y0}t + \\frac{1}{2}at^2$\n",
    "\n",
    "where $v_{y0} = sin(\\theta)v_0$ and $H =$ the initial height\n",
    "\n",
    "In its expanded form\n",
    "\n",
    "$y(t) = H + (sin(\\theta)v_0)\\frac{sin(\\theta)v_0}{-a} + \\frac{1}{2}a(\\frac{sin(\\theta)v_0}{-a})^2$\n",
    "\n",
    "This simplifies into\n",
    "\n",
    "$y(t) = H + \\frac{1}{2}(\\frac{(sin(\\theta)v_0)^2}{-a})$\n",
    "\n",
    "As stated earlier, a = -g\n",
    "\n",
    "$y_{max} = H + \\frac{sin(\\theta)^2v^2}{2g}$"
   ]
  },
  {
   "cell_type": "markdown",
   "id": "a459666b",
   "metadata": {},
   "source": [
    "### Range\n",
    "\n",
    "Horizontal velocity is constant, so \n",
    "\n",
    "$∆x = v_xt$\n",
    "\n",
    "Vertical acceleration is constant, so \n",
    "\n",
    "$∆y = v_yt + \\frac{1}{2}at^2$\n",
    "\n",
    "The stops moving when it hits the ground. If it starts from a position of $H m$ above ground, it travels a vertical displacement of $-H$. To find this time in the air, setup the equation of motion in the y-direction and solve for $t$.\n",
    "\n",
    "$-H = v_yt + \\frac{1}{2}(-g)t^2$\n",
    "\n",
    "Rearranged this becomes\n",
    "\n",
    "$0 = \\frac{1}{2}(-g)t^2 + v_yt + H$\n",
    "\n",
    "To find $t$, setup the quadratic and solve\n",
    "\n",
    "$t = \\frac{-v_y \\pm \\sqrt{v_y^2 + 2(g)(H)}}{-g}$\n",
    "\n",
    "One of the solution is negative and can be ignored, resulting in\n",
    "\n",
    "$t = \\frac{v_y + \\sqrt{v_y^2 + 2(g)(H)}}{g}$\n",
    "\n",
    "The horizontal displacement, or range, is then the horizontal velocity multiplied by this time.\n",
    "\n",
    "$∆x = v_x(\\frac{v_y + \\sqrt{v_y^2 + 2(g)(H)}}{g})$\n",
    "\n",
    "For an initial launch velocity of $v_0$ and angle of elevation of $\\theta$, this becomes\n",
    "\n",
    "$∆x = \\cos(\\theta)v_0(\\frac{\\sin(\\theta)v_0 + \\sqrt{(\\sin(\\theta)v_0)^2 + 2gH}}{g})$"
   ]
  },
  {
   "cell_type": "markdown",
   "id": "7a4fb401",
   "metadata": {},
   "source": [
    "### Special case: level ground\n",
    "\n",
    "In the case of a level ground, the formulas for maximum height and range remain the same. The only difference is that $H = 0$\n",
    "\n",
    "$y_{max} = \\frac{sin(\\theta)^2v^2}{2g}$\n",
    "\n",
    "For the range, removing the H term from the equation allows for a lot of cleanup and simplification.\n",
    "\n",
    "$∆x = \\frac{2\\cos(\\theta)v_0\\sin(\\theta)v_0}{g}$ or $∆x = \\frac{\\sin(2\\theta)v_0}{g}$"
   ]
  },
  {
   "cell_type": "code",
   "execution_count": null,
   "id": "3c97963e",
   "metadata": {},
   "outputs": [],
   "source": []
  }
 ],
 "metadata": {
  "kernelspec": {
   "display_name": "Python 3 (ipykernel)",
   "language": "python",
   "name": "python3"
  },
  "language_info": {
   "codemirror_mode": {
    "name": "ipython",
    "version": 3
   },
   "file_extension": ".py",
   "mimetype": "text/x-python",
   "name": "python",
   "nbconvert_exporter": "python",
   "pygments_lexer": "ipython3",
   "version": "3.9.12"
  }
 },
 "nbformat": 4,
 "nbformat_minor": 5
}
