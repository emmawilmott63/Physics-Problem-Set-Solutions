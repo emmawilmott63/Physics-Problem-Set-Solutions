{
 "cells": [
  {
   "cell_type": "markdown",
   "id": "12e401c8",
   "metadata": {},
   "source": [
    "# Projectile Collision Scenario\n",
    "\n",
    "A ball is dropped from a height H at the same instant that another ball is tossed upward from the ground at a velocity v."
   ]
  },
  {
   "cell_type": "markdown",
   "id": "03703196",
   "metadata": {},
   "source": [
    "### Motion of the falling ball\n",
    "\n",
    "A ball is dropped from a height of H and falls while experiencing negligible air resistance.\n",
    "\n",
    "$x = x_0 + ∆x$\n",
    "\n",
    "$∆x = v_0t - \\frac{1}{2}gt^2$\n",
    "\n",
    "$x_0 = H$\n",
    "\n",
    "$v_0 = 0$ \n",
    "\n",
    "$x = H - \\frac{1}{2}gt^2$"
   ]
  },
  {
   "cell_type": "markdown",
   "id": "ef3f981b",
   "metadata": {},
   "source": [
    "### Motion of the ball being thrown\n",
    "\n",
    "A ball is thrown up into the air with a velocity of V while experiencing negligible air resistance.\n",
    "\n",
    "$x = x_0 + ∆x$\n",
    "\n",
    "$∆x = v_0t - \\frac{1}{2}gt^2$\n",
    "\n",
    "$x_0 = 0$\n",
    "\n",
    "$x = v_0t - \\frac{1}{2}gt^2$"
   ]
  },
  {
   "cell_type": "markdown",
   "id": "c0ce1e5b",
   "metadata": {},
   "source": [
    "### Collision position and time\n",
    "\n",
    "The place of intersection is where the position of the 1st ball (x1) equals the position of the second (x2). Using the equations of motion derived earlier, you can solve for the time (t) when the balls reach this position, then subsitute back into an equation of motion to find exactly where it happens.\n",
    "\n",
    "$x_1 = H - \\frac{1}{2}gt^2$\n",
    "\n",
    "$x_2 = vt - \\frac{1}{2}gt^2$\n",
    "\n",
    "$x_1 = x_2$\n",
    "\n",
    "$H - \\frac{1}{2}gt^2 = vt - \\frac{1}{2}gt^2$\n",
    "\n",
    "$H = vt$\n",
    "\n",
    "$\\frac{H}{v} = t$"
   ]
  },
  {
   "cell_type": "markdown",
   "id": "301db80f",
   "metadata": {},
   "source": [
    "### Mathematical generalization\n",
    "\n",
    "In general, for any 2 balls where one is dropped from height H and the other is thrown up from the ground at velocity $v$, the time $t$ at which they collide or pass each other is equal to H divided by  $v$.\n",
    "\n",
    "$t = \\frac{H}{v}$\n",
    "\n",
    "And the position, $x$ where they meet can be found using the formula: \n",
    "\n",
    "$x = H - \\frac{H^2g}{2v^2}$\n",
    "\n",
    "- H = height of ball being dropped\n",
    "- g = acceleration due to gravity\n",
    "- v = velocity of ball being thrown"
   ]
  },
  {
   "cell_type": "code",
   "execution_count": null,
   "id": "c6503888",
   "metadata": {},
   "outputs": [],
   "source": []
  }
 ],
 "metadata": {
  "kernelspec": {
   "display_name": "Python 3 (ipykernel)",
   "language": "python",
   "name": "python3"
  },
  "language_info": {
   "codemirror_mode": {
    "name": "ipython",
    "version": 3
   },
   "file_extension": ".py",
   "mimetype": "text/x-python",
   "name": "python",
   "nbconvert_exporter": "python",
   "pygments_lexer": "ipython3",
   "version": "3.9.12"
  }
 },
 "nbformat": 4,
 "nbformat_minor": 5
}
